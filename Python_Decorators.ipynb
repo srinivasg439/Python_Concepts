{
  "nbformat": 4,
  "nbformat_minor": 0,
  "metadata": {
    "colab": {
      "provenance": []
    },
    "kernelspec": {
      "name": "python3",
      "display_name": "Python 3"
    },
    "language_info": {
      "name": "python"
    }
  },
  "cells": [
    {
      "cell_type": "markdown",
      "source": [
        "Python Decorators are powerful tools that helps you produce clean,reusable and maintainable code\n",
        "\n",
        "1)@logger(to get started)\n",
        "If you're new to decorators,you can think of them as functions  that take functions as input and extend their functionalities withot altering their primary purpose.\n",
        "\n",
        "Let’s start with a simple decorator that extends a function by logging when it starts and ends executing.\n",
        "\n",
        "The result of the function being decorated would look like this:"
      ],
      "metadata": {
        "id": "Rp3maUuVKuRA"
      }
    },
    {
      "cell_type": "code",
      "execution_count": null,
      "metadata": {
        "id": "dhcM_I2_KlTJ"
      },
      "outputs": [],
      "source": [
        "some_function(args)\n",
        "\n",
        "# ----- some_function: start -----\n",
        "# some_function executing\n",
        "# ----- some_function: end -----"
      ]
    },
    {
      "cell_type": "markdown",
      "source": [
        "To write this decroator, you first have to pick an appropriate name: let’s call it logger.\n",
        "\n",
        "logger is a function that takes a function as input and returns a function as output. The output function is usually an extended version of the input. In our case, we want the output function to surround the call of the input function with start and end statements.\n",
        "\n",
        "Since we don’t know what arguments the input function use, we can pass them from the wrapper function using *args and **kwargs. These expressions allow passing an arbitrary number of positional and keyword arguments.\n",
        "\n",
        "Here’s a simple implementation of the logger decorator:"
      ],
      "metadata": {
        "id": "M_i0WVL6MOtU"
      }
    },
    {
      "cell_type": "code",
      "source": [
        "def logger(function):\n",
        "    def wrapper(*args, **kwargs):\n",
        "        print(f\"----- {function.__name__}: start -----\")\n",
        "        output = function(*args, **kwargs)\n",
        "        print(f\"----- {function.__name__}: end -----\")\n",
        "        return output\n",
        "    return wrapper"
      ],
      "metadata": {
        "id": "VGYZS2RqMuHN"
      },
      "execution_count": 1,
      "outputs": []
    },
    {
      "cell_type": "markdown",
      "source": [
        "Now you can apply logger to some_function or any other function for that matter.\n",
        "\n",
        "decorated_function = logger(some_function)\n",
        "\n",
        "Python provides a more pythonic syntax for this, it uses the @ symbol."
      ],
      "metadata": {
        "id": "vePP6A9tNSTf"
      }
    },
    {
      "cell_type": "code",
      "source": [
        "@logger\n",
        "def some_function(text):\n",
        "    print(text)\n",
        "\n",
        "some_function(\"first test\")\n",
        "# ----- some_function: start -----\n",
        "# first test\n",
        "# ----- some_function: end -----\n",
        "\n",
        "some_function(\"second test\")\n",
        "# ----- some_function: start -----\n",
        "# second test\n",
        "# ----- some_function: end -----"
      ],
      "metadata": {
        "id": "nb8SkXP6N0ZK"
      },
      "execution_count": null,
      "outputs": []
    },
    {
      "cell_type": "markdown",
      "source": [
        "2 — @wraps 🎁\n",
        "This decorator updates the wrapper function to look like the original function and inherit its name and properties.\n",
        "\n",
        "To understand what @wraps does and why you should use it, let’s take the previous decorator and apply it to a simple function that adds two numbers."
      ],
      "metadata": {
        "id": "wQLF5DYKOVxo"
      }
    },
    {
      "cell_type": "code",
      "source": [
        "def logger(function):\n",
        "    def wrapper(*args, **kwargs):\n",
        "        \"\"\"wrapper documentation\"\"\"\n",
        "        print(f\"----- {function.__name__}: start -----\")\n",
        "        output = function(*args, **kwargs)\n",
        "        print(f\"----- {function.__name__}: end -----\")\n",
        "        return output\n",
        "    return wrapper\n",
        "\n",
        "@logger\n",
        "def add_two_numbers(a, b):\n",
        "    \"\"\"this function adds two numbers\"\"\"\n",
        "    return a + b"
      ],
      "metadata": {
        "id": "RnbIwQwQPY1j"
      },
      "execution_count": 3,
      "outputs": []
    },
    {
      "cell_type": "markdown",
      "source": [
        "If we check the name and the documentation of the decorated function add_two_numbers by calling the __name__ and __doc__ attributes, we get … unnatural (and yet expected) results:"
      ],
      "metadata": {
        "id": "1jwDIDaTQMdi"
      }
    },
    {
      "cell_type": "code",
      "source": [
        "add_two_numbers.__name__\n",
        "'wrapper'\n",
        "\n",
        "add_two_numbers.__doc__\n",
        "'wrapper documentation'"
      ],
      "metadata": {
        "id": "2NSvq1CjQW5J"
      },
      "execution_count": null,
      "outputs": []
    },
    {
      "cell_type": "markdown",
      "source": [
        "We get the wrapper name and documentation instead ⚠️\n",
        "\n",
        "This is an undesirable result. We want to keep the original function’s name and documentation. That’s when the @wraps decorator comes in handy.\n",
        "\n",
        "All you have to do is decorate the wrapper function."
      ],
      "metadata": {
        "id": "uin7lrTeQxTO"
      }
    },
    {
      "cell_type": "code",
      "source": [
        "from functools import wraps\n",
        "\n",
        "def logger(function):\n",
        "    @wraps(function)\n",
        "    def wrapper(*args, **kwargs):\n",
        "        \"\"\"wrapper documentation\"\"\"\n",
        "        print(f\"----- {function.__name__}: start -----\")\n",
        "        output = function(*args, **kwargs)\n",
        "        print(f\"----- {function.__name__}: end -----\")\n",
        "        return output\n",
        "    return wrapper\n",
        "\n",
        "@logger\n",
        "def add_two_numbers(a, b):\n",
        "    \"\"\"this function adds two numbers\"\"\"\n",
        "    return a + b"
      ],
      "metadata": {
        "id": "Sfbx1jabQ4CS"
      },
      "execution_count": 4,
      "outputs": []
    },
    {
      "cell_type": "markdown",
      "source": [
        "By rechecking the name and the documentation, we see the original function’s metadata."
      ],
      "metadata": {
        "id": "-vKDi-DHRopC"
      }
    },
    {
      "cell_type": "code",
      "source": [
        "add_two_numbers.__name__\n",
        "# 'add_two_numbers'\n",
        "\n",
        "add_two_numbers.__doc__\n",
        "# 'this function adds two numbers'"
      ],
      "metadata": {
        "id": "I7ITAI6NR6Y3"
      },
      "execution_count": null,
      "outputs": []
    },
    {
      "cell_type": "markdown",
      "source": [
        "3 — @lru_cache 💨\n",
        "This is a built-in decorator that you can import from functools .\n",
        "\n",
        "It caches the return values of a function, using a least-recently-used (LRU) algorithm to discard the least-used values when the cache is full.\n",
        "\n",
        "I typically use this decorator for long-running tasks that don’t change the output with the same input like querying a database, requesting a static remote web page, or running some heavy processing.\n",
        "\n",
        "In the following example, I use lru_cache to decorate a function that simulates some processing. Then, I apply the function on the same input multiple times in a row."
      ],
      "metadata": {
        "id": "S9GozpIaSY_g"
      }
    },
    {
      "cell_type": "code",
      "source": [
        "import random\n",
        "import time\n",
        "from functools import lru_cache\n",
        "\n",
        "\n",
        "@lru_cache(maxsize=None)\n",
        "def heavy_processing(n):\n",
        "    sleep_time = n + random.random()\n",
        "    time.sleep(sleep_time)\n",
        "\n",
        "# first time\n",
        "%%time\n",
        "heavy_processing(0)\n",
        "# CPU times: user 363 µs, sys: 727 µs, total: 1.09 ms\n",
        "# Wall time: 694 ms\n",
        "\n",
        "# second time\n",
        "%%time\n",
        "heavy_processing(0)\n",
        "# CPU times: user 4 µs, sys: 0 ns, total: 4 µs\n",
        "# Wall time: 8.11 µs\n",
        "\n",
        "# third time\n",
        "%%time\n",
        "heavy_processing(0)\n",
        "# CPU times: user 5 µs, sys: 1 µs, total: 6 µs\n",
        "# Wall time: 7.15 µs"
      ],
      "metadata": {
        "id": "ib39-JvrT8uD"
      },
      "execution_count": null,
      "outputs": []
    },
    {
      "cell_type": "markdown",
      "source": [
        "If you want to implement a cache decorator yourself from scratch, here’s how you’d do it:\n",
        "\n",
        "You add an empty dictionary as an attribute to the wrapper function to store previously computed values by the input function\n",
        "When calling the input function, you first check if its arguments are present in the cache. If it’s the case, return the result. Otherwise, compute it and put it in the cache."
      ],
      "metadata": {
        "id": "k5cHiQsdUqi-"
      }
    },
    {
      "cell_type": "code",
      "source": [
        "from functools import wraps\n",
        "\n",
        "def cache(function):\n",
        "    @wraps(function)\n",
        "    def wrapper(*args, **kwargs):\n",
        "        cache_key = args + tuple(kwargs.items())\n",
        "        if cache_key in wrapper.cache:\n",
        "            output = wrapper.cache[cache_key]\n",
        "        else:\n",
        "            output = function(*args)\n",
        "            wrapper.cache[cache_key] = output\n",
        "        return output\n",
        "    wrapper.cache = dict()\n",
        "    return wrapper\n",
        "\n",
        "@cache\n",
        "def heavy_processing(n):\n",
        "    sleep_time = n + random.random()\n",
        "    time.sleep(sleep_time)\n",
        "\n",
        "\n",
        "%%time\n",
        "heavy_processing(1)\n",
        "# CPU times: user 446 µs, sys: 864 µs, total: 1.31 ms\n",
        "# Wall time: 1.06 s\n",
        "\n",
        "%%time\n",
        "heavy_processing(1)\n",
        "# CPU times: user 11 µs, sys: 0 ns, total: 11 µs\n",
        "# Wall time: 13.1 µs"
      ],
      "metadata": {
        "id": "TvjJ3TdKVKEH"
      },
      "execution_count": null,
      "outputs": []
    },
    {
      "cell_type": "markdown",
      "source": [
        "4 — @repeat 🔁\n",
        "This decorator causes a function to be called multiple times in a row.\n",
        "\n",
        "This can be useful for debugging purposes, stress tests, or automating the repetition of multiple tasks.\n",
        "\n",
        "Unlike the previous decorators, this one expects an input parameter."
      ],
      "metadata": {
        "id": "d2mxDPqkV9KZ"
      }
    },
    {
      "cell_type": "code",
      "source": [
        "def repeat(number_of_times):\n",
        "    def decorate(func):\n",
        "        @wraps(func)\n",
        "        def wrapper(*args, **kwargs):\n",
        "            for _ in range(number_of_times):\n",
        "                func(*args, **kwargs)\n",
        "        return wrapper\n",
        "    return decorate"
      ],
      "metadata": {
        "id": "phcqPMgJV-hb"
      },
      "execution_count": null,
      "outputs": []
    },
    {
      "cell_type": "markdown",
      "source": [
        "The following example defines a decorator called repeat that takes a number of times as an argument. The decorator then defines a function called wrapper that is wrapped around the function being decorated. The wrapper function calls the decorated function a number of times equal to the specified number."
      ],
      "metadata": {
        "id": "rxfnTwfIWHp3"
      }
    },
    {
      "cell_type": "code",
      "source": [
        "@repeat(5)\n",
        "def dummy():\n",
        "    print(\"hello\")\n",
        "\n",
        "dummy()\n",
        "# hello\n",
        "# hello\n",
        "# hello\n",
        "# hello\n",
        "# hello"
      ],
      "metadata": {
        "id": "00YlxPaeW54Z"
      },
      "execution_count": null,
      "outputs": []
    },
    {
      "cell_type": "markdown",
      "source": [
        "5 — @timeit ⏲️\n",
        "This decorator measures the execution time of a function and prints the result: this serves as debugging or monitoring.\n",
        "\n",
        "In the following snippet, the timeit decorator measures the time it takes for the process_data function to execute and prints out the elapsed time in seconds."
      ],
      "metadata": {
        "id": "PPh-meJoXF6x"
      }
    },
    {
      "cell_type": "code",
      "source": [
        "import time\n",
        "from functools import wraps\n",
        "\n",
        "def timeit(func):\n",
        "    @wraps(func)\n",
        "    def wrapper(*args, **kwargs):\n",
        "        start = time.perf_counter()\n",
        "        result = func(*args, **kwargs)\n",
        "        end = time.perf_counter()\n",
        "        print(f'{func.__name__} took {end - start:.6f} seconds to complete')\n",
        "        return result\n",
        "    return wrapper\n",
        "\n",
        "@timeit\n",
        "def process_data():\n",
        "    time.sleep(1)\n",
        "\n",
        "process_data()\n",
        "# process_data took 1.000012 seconds to complete"
      ],
      "metadata": {
        "id": "8uXq7UorXIjC"
      },
      "execution_count": null,
      "outputs": []
    },
    {
      "cell_type": "markdown",
      "source": [
        "6 — @retry 🔁\n",
        "This decorator forces a function to retry a number of times when it encounters an exception.\n",
        "\n",
        "It takes three arguments: the number of retries, the exception to catch and retry on, and the sleep time between retries.\n",
        "\n",
        "It works like this:\n",
        "\n",
        "The wrapper function starts a for-loop of num_retries iterations.\n",
        "At each iteration, it calls the input function in a try/except block. When the call is successful, it breaks the loop and returns the result. Otherwise, it sleeps for sleep_time seconds and proceeds to the next iteration.\n",
        "When the function call is not successful after the for loop ends, the wrapper function raises the exception."
      ],
      "metadata": {
        "id": "Uxy9y7LyXzSV"
      }
    },
    {
      "cell_type": "code",
      "source": [
        "import random\n",
        "import time\n",
        "from functools import wraps\n",
        "\n",
        "def retry(num_retries, exception_to_check, sleep_time=0):\n",
        "    \"\"\"\n",
        "    Decorator that retries the execution of a function if it raises a specific exception.\n",
        "    \"\"\"\n",
        "    def decorate(func):\n",
        "        @wraps(func)\n",
        "        def wrapper(*args, **kwargs):\n",
        "            for i in range(1, num_retries+1):\n",
        "                try:\n",
        "                    return func(*args, **kwargs)\n",
        "                except exception_to_check as e:\n",
        "                    print(f\"{func.__name__} raised {e.__class__.__name__}. Retrying...\")\n",
        "                    if i < num_retries:\n",
        "                        time.sleep(sleep_time)\n",
        "            # Raise the exception if the function was not successful after the specified number of retries\n",
        "            raise e\n",
        "        return wrapper\n",
        "    return decorate\n",
        "\n",
        "@retry(num_retries=3, exception_to_check=ValueError, sleep_time=1)\n",
        "def random_value():\n",
        "    value = random.randint(1, 5)\n",
        "    if value == 3:\n",
        "        raise ValueError(\"Value cannot be 3\")\n",
        "    return value\n",
        "\n",
        "random_value()\n",
        "# random_value raised ValueError. Retrying...\n",
        "# 1\n",
        "\n",
        "random_value()\n",
        "# 5"
      ],
      "metadata": {
        "id": "z7UNET3hYCV9"
      },
      "execution_count": null,
      "outputs": []
    },
    {
      "cell_type": "markdown",
      "source": [
        "7 — @countcall 🔢\n",
        "This decorator counts the number of times a function has been called.\n",
        "\n",
        "This number is stored in the wrapper attribute count ."
      ],
      "metadata": {
        "id": "QlHK_c4fY1O2"
      }
    },
    {
      "cell_type": "code",
      "source": [
        "from functools import wraps\n",
        "\n",
        "def countcall(func):\n",
        "    @wraps(func)\n",
        "    def wrapper(*args, **kwargs):\n",
        "        wrapper.count += 1\n",
        "        result = func(*args, **kwargs)\n",
        "        print(f'{func.__name__} has been called {wrapper.count} times')\n",
        "        return result\n",
        "    wrapper.count = 0\n",
        "    return wrapper\n",
        "\n",
        "@countcall\n",
        "def process_data():\n",
        "    pass\n",
        "\n",
        "process_data()\n",
        "process_data has been called 1 times\n",
        "process_data()\n",
        "process_data has been called 2 times\n",
        "process_data()\n",
        "process_data has been called 3 times"
      ],
      "metadata": {
        "id": "GEuk7rjLY3rd"
      },
      "execution_count": null,
      "outputs": []
    },
    {
      "cell_type": "markdown",
      "source": [
        "8 — @rate_limited 🚧\n",
        "This is a decorator that limits the rate at which a function can be called, by sleeping an amount of time if the function is called too frequently."
      ],
      "metadata": {
        "id": "vIFi43IcZD23"
      }
    },
    {
      "cell_type": "code",
      "source": [
        "import time\n",
        "from functools import wraps\n",
        "\n",
        "def rate_limited(max_per_second):\n",
        "    min_interval = 1.0 / float(max_per_second)\n",
        "    def decorate(func):\n",
        "        last_time_called = [0.0]\n",
        "        @wraps(func)\n",
        "        def rate_limited_function(*args, **kargs):\n",
        "            elapsed = time.perf_counter() - last_time_called[0]\n",
        "            left_to_wait = min_interval - elapsed\n",
        "            if left_to_wait > 0:\n",
        "                time.sleep(left_to_wait)\n",
        "            ret = func(*args, **kargs)\n",
        "            last_time_called[0] = time.perf_counter()\n",
        "            return ret\n",
        "        return rate_limited_function\n",
        "    return decorate"
      ],
      "metadata": {
        "id": "jY-PrOCdZK6M"
      },
      "execution_count": null,
      "outputs": []
    },
    {
      "cell_type": "markdown",
      "source": [
        "The decorator works by measuring the time elapsed since the last call to the function and waiting for an appropriate amount of time if necessary to ensure that the rate limit is not exceeded. The waiting time is calculated as min_interval - elapsed, where min_interval is the minimum time interval (in seconds) between two function calls and elapsed is the time elapsed since the last call.\n",
        "\n",
        "If the time elapsed is less than the minimum interval, the function waits for left_to_wait seconds before being executed again.\n",
        "\n",
        "This function hence introduces a slight time overhead between the calls but ensures that the rate limit is not exceeded.\n",
        "\n",
        "There’s also a third-party package that implements API rate limit: it’s called ratelimit."
      ],
      "metadata": {
        "id": "T8UzF9hbaKTX"
      }
    },
    {
      "cell_type": "code",
      "source": [
        "pip install ratelimit"
      ],
      "metadata": {
        "id": "htDCTDXIaULU"
      },
      "execution_count": null,
      "outputs": []
    },
    {
      "cell_type": "markdown",
      "source": [
        "To use this package, simply decorate any function that makes an API call:"
      ],
      "metadata": {
        "id": "7urv7esqaobs"
      }
    },
    {
      "cell_type": "code",
      "source": [
        "from ratelimit import limits\n",
        "\n",
        "import requests\n",
        "\n",
        "FIFTEEN_MINUTES = 900\n",
        "\n",
        "@limits(calls=15, period=FIFTEEN_MINUTES)\n",
        "def call_api(url):\n",
        "    response = requests.get(url)\n",
        "\n",
        "    if response.status_code != 200:\n",
        "        raise Exception('API response: {}'.format(response.status_code))\n",
        "    return response\n",
        "    "
      ],
      "metadata": {
        "id": "oxymSbIHapcu"
      },
      "execution_count": null,
      "outputs": []
    },
    {
      "cell_type": "markdown",
      "source": [
        "If the decorated function is called more times than allowed a ratelimit.RateLimitException is raised.\n",
        "\n",
        "To be able to handle this exception, you can use the sleep_and_retry decorator in combination with theratelimit decorator."
      ],
      "metadata": {
        "id": "Fk6fkRBpa82i"
      }
    },
    {
      "cell_type": "code",
      "source": [
        "@sleep_and_retry\n",
        "@limits(calls=15, period=FIFTEEN_MINUTES)\n",
        "def call_api(url):\n",
        "    response = requests.get(url)\n",
        "\n",
        "    if response.status_code != 200:\n",
        "        raise Exception('API response: {}'.format(response.status_code))\n",
        "    return response"
      ],
      "metadata": {
        "id": "xtv23VwUbEqC"
      },
      "execution_count": null,
      "outputs": []
    },
    {
      "cell_type": "markdown",
      "source": [
        "This causes the function to sleep the remaining amount of time before being executed again."
      ],
      "metadata": {
        "id": "n7mfpWODbJfN"
      }
    },
    {
      "cell_type": "markdown",
      "source": [
        "9 — @dataclass 🗂️\n",
        "The @dataclass decorator in Python is used to decorate classes.\n",
        "\n",
        "It automatically generates special methods such as __init__, __repr__, __eq__, __lt__, and __str__ for classes that primarily store data. This can reduce the boilerplate code and make the classes more readable and maintainable.\n",
        "\n",
        "It also provides nifty methods off-the-shelf to represent objects nicely, convert them into JSON format, make them immutable, etc.\n",
        "\n",
        "The @dataclass decorator was introduced in Python 3.7 and is available in the standard library."
      ],
      "metadata": {
        "id": "ZNRVbLIZbXjV"
      }
    },
    {
      "cell_type": "code",
      "source": [
        "from dataclasses import dataclass, \n",
        "\n",
        "@dataclass\n",
        "class Person:\n",
        "    first_name: str\n",
        "    last_name: str\n",
        "    age: int\n",
        "    job: str\n",
        "\n",
        "    def __eq__(self, other):\n",
        "        if isinstance(other, Person):\n",
        "            return self.age == other.age\n",
        "        return NotImplemented\n",
        "\n",
        "    def __lt__(self, other):\n",
        "        if isinstance(other, Person):\n",
        "            return self.age < other.age\n",
        "        return NotImplemented\n",
        "\n",
        "\n",
        "john = Person(first_name=\"John\", \n",
        "              last_name=\"Doe\", \n",
        "              age=30, \n",
        "              job=\"doctor\",)\n",
        "\n",
        "anne = Person(first_name=\"Anne\", \n",
        "              last_name=\"Smith\", \n",
        "              age=40, \n",
        "              job=\"software engineer\",)\n",
        "\n",
        "print(john == anne)\n",
        "# False\n",
        "\n",
        "print(anne > john)\n",
        "# True\n",
        "\n",
        "asdict(anne)\n",
        "#{'first_name': 'Anne',\n",
        "# 'last_name': 'Smith',\n",
        "# 'age': 40,\n",
        "# 'job': 'software engineer'}"
      ],
      "metadata": {
        "id": "61_cuiG3bqFQ"
      },
      "execution_count": null,
      "outputs": []
    },
    {
      "cell_type": "markdown",
      "source": [
        "10 — @register 🛑\n",
        "If your Python script accidentally terminates and you still want to perform some tasks to save your work, perform cleanup or print a message, I find that the register decorator is quite handy in this context."
      ],
      "metadata": {
        "id": "aYkv7Zb9cKXz"
      }
    },
    {
      "cell_type": "code",
      "source": [
        "from atexit import register\n",
        "\n",
        "@register\n",
        "def terminate():\n",
        "    perform_some_cleanup()\n",
        "    print(\"Goodbye!\")\n",
        "\n",
        "while True:\n",
        "    print(\"Hello\")"
      ],
      "metadata": {
        "id": "Y3Mk2bY7cPri"
      },
      "execution_count": null,
      "outputs": []
    },
    {
      "cell_type": "markdown",
      "source": [
        "11 — @property 🏠\n",
        "The property decorator is used to define class properties which are essentially getter, setter, and deleter methods for a class instance attribute.\n",
        "\n",
        "By using the property decorator, you can define a method as a class property and access it as if it were a class attribute, without calling the method explicitly.\n",
        "\n",
        "This is useful if you want to add some constraints and validation logic around getting and setting a value.\n",
        "\n",
        "In the following example, we define a setter on the rating property to enforce a constraint on the input (between 0 and 5)."
      ],
      "metadata": {
        "id": "ulOZTouYcl3H"
      }
    },
    {
      "cell_type": "code",
      "source": [
        "class Movie:\n",
        "    def __init__(self, r):\n",
        "        self._rating = r\n",
        "\n",
        "    @property\n",
        "    def rating(self):\n",
        "        return self._rating\n",
        "\n",
        "    @rating.setter\n",
        "    def rating(self, r):\n",
        "        if 0 <= r <= 5:\n",
        "            self._rating = r\n",
        "        else:\n",
        "            raise ValueError(\"The movie rating must be between 0 and 5!\")\n",
        "\n",
        "batman = Movie(2.5)\n",
        "batman.rating\n",
        "# 2.5\n",
        "batman.rating = 4\n",
        "batman.rating\n",
        "# 4\n",
        "batman.rating = 10"
      ],
      "metadata": {
        "id": "HV4kO85Dcupv"
      },
      "execution_count": null,
      "outputs": []
    },
    {
      "cell_type": "markdown",
      "source": [
        "12 — @singledispatch\n",
        "This decorator allows a function to have different implementations for different types of arguments."
      ],
      "metadata": {
        "id": "FyLPiwxCdNH8"
      }
    },
    {
      "cell_type": "code",
      "source": [
        "from functools import singledispatch\n",
        "\n",
        "@singledispatch\n",
        "def fun(arg):\n",
        "    print(\"Called with a single argument\")\n",
        "\n",
        "@fun.register(int)\n",
        "def _(arg):\n",
        "    print(\"Called with an integer\")\n",
        "\n",
        "@fun.register(list)\n",
        "def _(arg):\n",
        "    print(\"Called with a list\")\n",
        "\n",
        "fun(1)  # Prints \"Called with an integer\"\n",
        "fun([1, 2, 3])  # Prints \"Called with a list\""
      ],
      "metadata": {
        "id": "FQNZ9qCrdOp-"
      },
      "execution_count": null,
      "outputs": []
    },
    {
      "cell_type": "markdown",
      "source": [
        "Conclusion\n",
        "Decorators are useful abstractions to extend your code with extra functionalities like caching, automatic retry, rate limiting, logging, or turning your classes into supercharged data containers.\n",
        "\n",
        "It doesn’t stop there though as you can be more creative and implement your custom decorators to solve very specific problems."
      ],
      "metadata": {
        "id": "SQfihDrkdyFQ"
      }
    }
  ]
}