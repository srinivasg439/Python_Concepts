{
  "nbformat": 4,
  "nbformat_minor": 0,
  "metadata": {
    "colab": {
      "provenance": []
    },
    "kernelspec": {
      "name": "python3",
      "display_name": "Python 3"
    },
    "language_info": {
      "name": "python"
    }
  },
  "cells": [
    {
      "cell_type": "code",
      "execution_count": null,
      "metadata": {
        "colab": {
          "base_uri": "https://localhost:8080/"
        },
        "id": "23TCMq96kkDD",
        "outputId": "14dfba1d-ab1d-4f9d-f7d4-d63fad9ced41"
      },
      "outputs": [
        {
          "output_type": "stream",
          "name": "stdout",
          "text": [
            "[10, 20, 50, 40, 30, 60, 70]\n"
          ]
        }
      ],
      "source": [
        "#1. Write a Python function to reverse a list at a specific location. \n",
        "def reverse_list_in_location(lst,start_pos,end_pos):\n",
        "  while start_pos < end_pos:\n",
        "    lst[start_pos],lst[end_pos] = lst[end_pos],lst[start_pos]\n",
        "    start_pos +=1\n",
        "    end_pos -=1\n",
        "  return lst\n",
        "\n",
        "lst = [10,20,30,40,50,60,70]\n",
        "start_pos = 2\n",
        "end_pos = 4\n",
        "print(reverse_list_in_location(lst,start_pos,end_pos))"
      ]
    },
    {
      "cell_type": "code",
      "source": [
        "#2.  Write a Python function find the length of the longest increasing sub-sequence in a list.\n",
        "\n",
        "def longest_increasing_subsequence(nums):\n",
        "    n = len(nums)\n",
        "    arr = [1] * n\n",
        "    for i in range(1, n):\n",
        "        for j in range(i):\n",
        "            if nums[i] > nums[j]:\n",
        "                arr[i] = max(arr[i], arr[j]+1)\n",
        "    return max(arr)\n",
        "\n",
        "nums = [10,20,30,40,50,60,70,80]\n",
        "print(\"Original list:\")\n",
        "print(nums)\n",
        "print(\"Length of the longest increasing sub-sequence in the said list:\")\n",
        "print(longest_increasing_subsequence(nums))"
      ],
      "metadata": {
        "colab": {
          "base_uri": "https://localhost:8080/"
        },
        "id": "2WAuqrxExqeC",
        "outputId": "23d434d0-3c78-4598-d75f-beee923bf3c5"
      },
      "execution_count": null,
      "outputs": [
        {
          "output_type": "stream",
          "name": "stdout",
          "text": [
            "Original list:\n",
            "[10, 20, 30, 40, 50, 60, 70, 80]\n",
            "Length of the longest increasing sub-sequence in the said list:\n",
            "8\n"
          ]
        }
      ]
    },
    {
      "cell_type": "code",
      "source": [
        "#3.Write a Python function that finds all the permutations of the members of a list.\n",
        "def permutations(nums):\n",
        "    if len(nums) == 0:\n",
        "        return []\n",
        "    if len(nums) == 1:\n",
        "        return [nums]\n",
        "    result = []\n",
        "    for i in range(len(nums)):\n",
        "        m = nums[i]\n",
        "        rem_list = nums[:i] + nums[i+1:]\n",
        "        for p in permutations(rem_list):\n",
        "            result.append([m] + p)\n",
        "    return result\n",
        "\n",
        "nums = [1,2,3,4]\n",
        "print(\"Original list:\")\n",
        "print(nums)\n",
        "print(\"Permutations of the members of the said list:\")\n",
        "print(permutations(nums))"
      ],
      "metadata": {
        "colab": {
          "base_uri": "https://localhost:8080/"
        },
        "id": "2a7DRHnR90h5",
        "outputId": "57f14493-015f-4793-f6d7-43fa573525c6"
      },
      "execution_count": null,
      "outputs": [
        {
          "output_type": "stream",
          "name": "stdout",
          "text": [
            "Original list:\n",
            "[1, 2, 3, 4]\n",
            "Permutations of the members of the said list:\n",
            "[[1, 2, 3, 4], [1, 2, 4, 3], [1, 3, 2, 4], [1, 3, 4, 2], [1, 4, 2, 3], [1, 4, 3, 2], [2, 1, 3, 4], [2, 1, 4, 3], [2, 3, 1, 4], [2, 3, 4, 1], [2, 4, 1, 3], [2, 4, 3, 1], [3, 1, 2, 4], [3, 1, 4, 2], [3, 2, 1, 4], [3, 2, 4, 1], [3, 4, 1, 2], [3, 4, 2, 1], [4, 1, 2, 3], [4, 1, 3, 2], [4, 2, 1, 3], [4, 2, 3, 1], [4, 3, 1, 2], [4, 3, 2, 1]]\n"
          ]
        }
      ]
    },
    {
      "cell_type": "code",
      "source": [
        "#4.Write a Python function to find the kth smallest element in a list.\n",
        "def kth_smallest_el(lst, k):\n",
        "    lst.sort()\n",
        "    return lst[k-1]\n",
        "nums = [1,2,4,3,5,4,6,9,2,1]\n",
        "print(\"Original list:\")\n",
        "print(nums)\n",
        "k = 1\n",
        "for i in range(1, 11):\n",
        "    print(\"kth smallest element in the said list, when k = \",k)\n",
        "    print(kth_smallest_el(nums, k))\n",
        "    k=k+1"
      ],
      "metadata": {
        "colab": {
          "base_uri": "https://localhost:8080/"
        },
        "id": "8vI6IajpaMCp",
        "outputId": "7eeeb689-6be0-47f1-b409-aae35bcf2091"
      },
      "execution_count": null,
      "outputs": [
        {
          "output_type": "stream",
          "name": "stdout",
          "text": [
            "Original list:\n",
            "[1, 2, 4, 3, 5, 4, 6, 9, 2, 1]\n",
            "kth smallest element in the said list, when k =  1\n",
            "1\n",
            "kth smallest element in the said list, when k =  2\n",
            "1\n",
            "kth smallest element in the said list, when k =  3\n",
            "2\n",
            "kth smallest element in the said list, when k =  4\n",
            "2\n",
            "kth smallest element in the said list, when k =  5\n",
            "3\n",
            "kth smallest element in the said list, when k =  6\n",
            "4\n",
            "kth smallest element in the said list, when k =  7\n",
            "4\n",
            "kth smallest element in the said list, when k =  8\n",
            "5\n",
            "kth smallest element in the said list, when k =  9\n",
            "6\n",
            "kth smallest element in the said list, when k =  10\n",
            "9\n"
          ]
        }
      ]
    },
    {
      "cell_type": "code",
      "source": [
        "#5 Write a Python function to find the kth largest element in a list.\n",
        "def kth_largest_el(lst, k):\n",
        "    lst.sort(reverse=True)\n",
        "    return lst[k-1]\n",
        "\n",
        "nums = [1,2,4,3,5,4,6,9,2,1]\n",
        "print(\"Original list:\")\n",
        "print(nums)\n",
        "k = 1\n",
        "for i in range(1, 11):\n",
        "    print(\"kth largest element in the said list, when k = \",k)\n",
        "    print(kth_largest_el(nums, k))\n",
        "    k=k+1"
      ],
      "metadata": {
        "colab": {
          "base_uri": "https://localhost:8080/"
        },
        "id": "c9RcLkTr15cc",
        "outputId": "f63e6887-f0fb-4c31-bf75-fb968c16b5c7"
      },
      "execution_count": null,
      "outputs": [
        {
          "output_type": "stream",
          "name": "stdout",
          "text": [
            "Original list:\n",
            "[1, 2, 4, 3, 5, 4, 6, 9, 2, 1]\n",
            "kth largest element in the said list, when k =  1\n",
            "9\n",
            "kth largest element in the said list, when k =  2\n",
            "6\n",
            "kth largest element in the said list, when k =  3\n",
            "5\n",
            "kth largest element in the said list, when k =  4\n",
            "4\n",
            "kth largest element in the said list, when k =  5\n",
            "4\n",
            "kth largest element in the said list, when k =  6\n",
            "3\n",
            "kth largest element in the said list, when k =  7\n",
            "2\n",
            "kth largest element in the said list, when k =  8\n",
            "2\n",
            "kth largest element in the said list, when k =  9\n",
            "1\n",
            "kth largest element in the said list, when k =  10\n",
            "1\n"
          ]
        }
      ]
    },
    {
      "cell_type": "code",
      "source": [
        "#6 Write a Python function to check if a list is a palindrome or not. Return true otherwise false.\n",
        "def is_palindrome_list(lst):\n",
        "    return lst == lst[::-1]\n",
        "\n",
        "nums = [1,2,1]\n",
        "print(\"Original list:\")\n",
        "print(nums)\n",
        "print(\"Check the said list is Palindrome or not?\")\n",
        "print(is_palindrome_list(nums))\n"
      ],
      "metadata": {
        "colab": {
          "base_uri": "https://localhost:8080/"
        },
        "id": "MBlmVQTE192q",
        "outputId": "e900183b-3190-40db-8e04-b4c1187fc93f"
      },
      "execution_count": null,
      "outputs": [
        {
          "output_type": "stream",
          "name": "stdout",
          "text": [
            "Original list:\n",
            "[1, 2, 1]\n",
            "Check the said list is Palindrome or not?\n",
            "True\n"
          ]
        }
      ]
    },
    {
      "cell_type": "code",
      "source": [
        "#7 Write a Python a function to find the union and intersection of two lists. \n",
        "def union_interaction(l1,l2):\n",
        "  union = list(set(l1) | set(l2))\n",
        "  interaction = list(set(l1) & set(l2))\n",
        "  return union ,interaction\n",
        "\n",
        "l1=[1,2,3,4,5]\n",
        "l2=[3,4,5,6,7]\n",
        "result = union_interaction(l1,l2)\n",
        "print(result[0])\n",
        "print(result[1])"
      ],
      "metadata": {
        "colab": {
          "base_uri": "https://localhost:8080/"
        },
        "id": "Uy2wPCLm4fsB",
        "outputId": "711a1d78-a5f6-440d-c906-3631db872bb2"
      },
      "execution_count": null,
      "outputs": [
        {
          "output_type": "stream",
          "name": "stdout",
          "text": [
            "[1, 2, 3, 4, 5, 6, 7]\n",
            "[3, 4, 5]\n"
          ]
        }
      ]
    },
    {
      "cell_type": "code",
      "source": [
        "#8 Write a Python function to remove duplicates from a list while preserving the order\n",
        "from collections import OrderedDict\n",
        "def remove_duplicates(lst):\n",
        "    return list(OrderedDict.fromkeys(lst))\n",
        "\n",
        "nums = [1,2,4,3,5,4,6,9,2,1]\n",
        "print(\"Original lists:\")\n",
        "print(nums)\n",
        "result = remove_duplicates(nums)\n",
        "print(\"Remove duplicates from the said list while preserving the order:\")\n",
        "print(result)"
      ],
      "metadata": {
        "colab": {
          "base_uri": "https://localhost:8080/"
        },
        "id": "BjfSaHInLwsR",
        "outputId": "c3d1c7a0-0a1e-417c-8de6-9c1297a7e2d7"
      },
      "execution_count": null,
      "outputs": [
        {
          "output_type": "stream",
          "name": "stdout",
          "text": [
            "Original lists:\n",
            "[1, 2, 4, 3, 5, 4, 6, 9, 2, 1]\n",
            "Remove duplicates from the said list while preserving the order:\n",
            "[1, 2, 4, 3, 5, 6, 9]\n"
          ]
        }
      ]
    },
    {
      "cell_type": "code",
      "source": [
        "#9 Write a Python a function to find the maximum sum sub-sequence in a list. Return the maximum value.\n",
        "def max_sum_subsequence(arr):\n",
        "    n = len(arr)\n",
        "    dp = [0 for i in range(n)]\n",
        "    dp[0] = arr[0]\n",
        "    for i in range(1, n):\n",
        "        dp[i] = max(arr[i], dp[i-1] + arr[i])\n",
        "    return max(dp)\n",
        "\n",
        "nums =  [1,2,3]\n",
        "print(\"Original lists:\")\n",
        "print(nums)\n",
        "result = max_sum_subsequence(nums)\n",
        "print(\"Maximum sum sub-sequence of the said list:\")\n",
        "print(result)"
      ],
      "metadata": {
        "colab": {
          "base_uri": "https://localhost:8080/"
        },
        "id": "OYp6-08J6CPx",
        "outputId": "2895f8b6-ac39-4df1-8e7f-ba8ab7bdb23c"
      },
      "execution_count": null,
      "outputs": [
        {
          "output_type": "stream",
          "name": "stdout",
          "text": [
            "Original lists:\n",
            "[1, 2, 3]\n",
            "Maximum sum sub-sequence of the said list:\n",
            "6\n"
          ]
        }
      ]
    },
    {
      "cell_type": "code",
      "source": [
        "#10 Write a Python a function to find the minimum sum sub-sequence in a list. Return the sub-sequence\n",
        "def minimum_sum_subsequence(lst):\n",
        "    min_sum = float('inf')\n",
        "    start, end = 0, 0\n",
        "    curr_start, curr_sum = 0, 0\n",
        "    \n",
        "    for i in range(len(lst)):\n",
        "        curr_sum += lst[i]\n",
        "        if curr_sum < min_sum:\n",
        "            min_sum = curr_sum\n",
        "            start = curr_start\n",
        "            end = i\n",
        "        if curr_sum > 0:\n",
        "            curr_sum = 0\n",
        "            curr_start = i + 1\n",
        "    \n",
        "    return lst[start:end+1]\n",
        "\n",
        "\n",
        "\n",
        "nums =  [1,2,6,12]\n",
        "print(\"Original list:\")\n",
        "print(nums)\n",
        "result = minimum_sum_subsequence(nums)\n",
        "print(\"Minimum sum sub-sequence of the said list:\")\n",
        "print(result)"
      ],
      "metadata": {
        "colab": {
          "base_uri": "https://localhost:8080/"
        },
        "id": "P_dwUy1kZcbn",
        "outputId": "65f529fc-a6c1-4b3c-9561-82dd34dc4ac7"
      },
      "execution_count": null,
      "outputs": [
        {
          "output_type": "stream",
          "name": "stdout",
          "text": [
            "Original list:\n",
            "[1, 2, 6, 12]\n",
            "Minimum sum sub-sequence of the said list:\n",
            "[1]\n"
          ]
        }
      ]
    },
    {
      "cell_type": "code",
      "source": [
        "#11 Write a Python function to find the longest common sub-sequence in two lists.\n",
        "def longest_common_subsequence(lst1, lst2):\n",
        "    m, n = len(lst1), len(lst2)\n",
        "    jh = [[0 for j in range(n+1)] for i in range(m+1)]\n",
        "    \n",
        "    for i in range(1, m+1):\n",
        "        for j in range(1, n+1):\n",
        "            if lst1[i-1] == lst2[j-1]:\n",
        "                jh[i][j] = 1 + jh[i-1][j-1]\n",
        "            else:\n",
        "                jh[i][j] = max(jh[i-1][j], jh[i][j-1])\n",
        "    \n",
        "    result = []\n",
        "    i, j = m, n\n",
        "    while i > 0 and j > 0:\n",
        "        if lst1[i-1] == lst2[j-1]:\n",
        "            result.append(lst1[i-1])\n",
        "            i -= 1\n",
        "            j -= 1\n",
        "        elif jh[i-1][j] > jh[i][j-1]:\n",
        "            i -= 1\n",
        "        else:\n",
        "            j -= 1\n",
        "    \n",
        "    return result[::-1]\n",
        "\n",
        "nums1 =  [1,2,3,4,5,6,7,8]\n",
        "nums2 =  [6,7,5,6,7,8]\n",
        "print(\"Original lists:\")\n",
        "print(nums1)\n",
        "print(nums2)\n",
        "result = longest_common_subsequence(nums1,nums2)\n",
        "print(\"Longest common sub-sequence in two lists:\")\n",
        "print(result)\n",
        "nums1 =  [3,5,1,8,8]\n",
        "nums2 =  [3,3,5,3,8]\n",
        "print(\"\\nOriginal lists:\")\n",
        "print(nums1)\n",
        "print(nums2)\n",
        "result = longest_common_subsequence(nums1,nums2)\n",
        "print(\"Longest common sub-sequence in two lists:\")\n",
        "print(result)"
      ],
      "metadata": {
        "colab": {
          "base_uri": "https://localhost:8080/"
        },
        "id": "yv61ooqBJ_wN",
        "outputId": "4909ec31-482e-48c1-fc73-cea425d90838"
      },
      "execution_count": null,
      "outputs": [
        {
          "output_type": "stream",
          "name": "stdout",
          "text": [
            "Original lists:\n",
            "[1, 2, 3, 4, 5, 6, 7, 8]\n",
            "[6, 7, 5, 6, 7, 8]\n",
            "Longest common sub-sequence in two lists:\n",
            "[5, 6, 7, 8]\n",
            "\n",
            "Original lists:\n",
            "[3, 5, 1, 8, 8]\n",
            "[3, 3, 5, 3, 8]\n",
            "Longest common sub-sequence in two lists:\n",
            "[3, 5, 8]\n"
          ]
        }
      ]
    },
    {
      "cell_type": "code",
      "source": [
        "#12 Write a Python program to find the first non-repeated element in a list\n",
        "def first_non_repeated_el(lst):\n",
        "    ctr = {}\n",
        "    for i in lst:\n",
        "        if i in ctr:\n",
        "            ctr[i] += 1\n",
        "        else:\n",
        "            ctr[i] = 1\n",
        "    for i in lst:\n",
        "        if ctr[i] == 1:\n",
        "            return i\n",
        "    return None\n",
        "\n",
        "\n",
        "nums =  [1,2,3,4,5,6,7,8]\n",
        "print(\"Original list:\")\n",
        "print(nums)\n",
        "result = first_non_repeated_el(nums)\n",
        "print(\"First non-repeated element in the said list:\")\n",
        "print(result)"
      ],
      "metadata": {
        "id": "8u6Nib2yTond",
        "colab": {
          "base_uri": "https://localhost:8080/"
        },
        "outputId": "887ecaa1-f3e5-4e3a-8c1a-be44231f946c"
      },
      "execution_count": 2,
      "outputs": [
        {
          "output_type": "stream",
          "name": "stdout",
          "text": [
            "Original list:\n",
            "[1, 2, 3, 4, 5, 6, 7, 8]\n",
            "First non-repeated element in the said list:\n",
            "1\n"
          ]
        }
      ]
    },
    {
      "cell_type": "code",
      "source": [
        "#13 Write a Python function to sort a list of dictionaries based on values of a key\n",
        "from heapq import heapify, heappush, heappop\n",
        "\n",
        "def merge_k_sorted_lists(nums):\n",
        "    heap_lst = []\n",
        "    heapify(heap_lst)\n",
        "    for lst in nums:\n",
        "        for val in lst:\n",
        "            heappush(heap_lst, val)\n",
        "    return [heappop(heap_lst) for _ in range(len(heap_lst))]\n",
        "\n",
        "\n",
        "nums = [[1,4,5],[1,3,4],[2,6,7,8]]\n",
        "print(\"Original list:\")\n",
        "print(nums)\n",
        "result = merge_k_sorted_lists(nums)\n",
        "print(\"Merge k Sorted Lists into a list:\")\n",
        "print(result)"
      ],
      "metadata": {
        "colab": {
          "base_uri": "https://localhost:8080/"
        },
        "id": "Ixs40JnWeFLV",
        "outputId": "06166804-4488-4fd2-df02-42c75ea6ed0b"
      },
      "execution_count": 3,
      "outputs": [
        {
          "output_type": "stream",
          "name": "stdout",
          "text": [
            "Original list:\n",
            "[[1, 4, 5], [1, 3, 4], [2, 6, 7, 8]]\n",
            "Merge k Sorted Lists into a list:\n",
            "[1, 1, 2, 3, 4, 4, 5, 6, 7, 8]\n"
          ]
        }
      ]
    },
    {
      "cell_type": "code",
      "source": [
        "#14Write a Python program to find all the pairs in a list whose sum is equal to a given value.\n",
        "def pairs_with_sum(lst, g_sum):\n",
        "    complement_dict = {}\n",
        "    pairs = []\n",
        "    for num in lst:\n",
        "        if g_sum - num in complement_dict:\n",
        "            pairs.append((num, g_sum - num))\n",
        "        else:\n",
        "            complement_dict[num] = g_sum - num\n",
        "    return pairs\n",
        "\n",
        "\n",
        "nums = [1,2,3,4,5,6,7,8,9]\n",
        "val = 10\n",
        "print(\"Original list:\")\n",
        "print(nums)\n",
        "result = pairs_with_sum(nums,val)\n",
        "print(\"List all pairs of the said list whose sum equals to\",val)\n",
        "print(result)"
      ],
      "metadata": {
        "colab": {
          "base_uri": "https://localhost:8080/"
        },
        "id": "e_BKDf-4fMRA",
        "outputId": "9451b28f-b3b0-439c-9ef1-373089a1592c"
      },
      "execution_count": 5,
      "outputs": [
        {
          "output_type": "stream",
          "name": "stdout",
          "text": [
            "Original list:\n",
            "[1, 2, 3, 4, 5, 6, 7, 8, 9]\n",
            "List all pairs of the said list whose sum equals to 10\n",
            "[(6, 4), (7, 3), (8, 2), (9, 1)]\n"
          ]
        }
      ]
    }
  ]
}