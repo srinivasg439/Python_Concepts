{
  "nbformat": 4,
  "nbformat_minor": 0,
  "metadata": {
    "colab": {
      "provenance": []
    },
    "kernelspec": {
      "name": "python3",
      "display_name": "Python 3"
    },
    "language_info": {
      "name": "python"
    }
  },
  "cells": [
    {
      "cell_type": "code",
      "execution_count": 2,
      "metadata": {
        "colab": {
          "base_uri": "https://localhost:8080/",
          "height": 0
        },
        "id": "3kmpbLv2H_YT",
        "outputId": "6df8eb2f-5deb-4ef3-b2de-d12078dff052"
      },
      "outputs": [
        {
          "output_type": "stream",
          "name": "stdout",
          "text": [
            "mango\n"
          ]
        },
        {
          "output_type": "execute_result",
          "data": {
            "text/plain": [
              "1"
            ]
          },
          "metadata": {},
          "execution_count": 2
        }
      ],
      "source": [
        "#1. We can make stuff run after 'return' statement in a function\n",
        "def test():\n",
        "  print('mango')\n",
        "  return 1\n",
        "  print('orange')\n",
        "test()\n",
        "\n",
        "\"\"\"\n",
        "In typical functions,nothing happens after a return statement excuted. The print('orange') won't ever excute because \n",
        "it happens after a 'return' statement. \n",
        "\"\"\"                  "
      ]
    },
    {
      "cell_type": "code",
      "source": [
        "#1.1 \n",
        "def test():\n",
        "  try:\n",
        "    print('mango')\n",
        "    return 1\n",
        "  finally:\n",
        "    print('orange') #This will run even after a 'return' statement\n",
        "\n",
        "test()\n",
        "\n",
        "\"\"\"\n",
        "However we use a try-finally block and  return statement is inside the try/except block,the code inside the finally block will run even after \n",
        "the return statement.\n",
        "\"\"\""
      ],
      "metadata": {
        "colab": {
          "base_uri": "https://localhost:8080/",
          "height": 0
        },
        "id": "ACojTFlZKUm_",
        "outputId": "7c20ed81-f9a9-4f25-e3ac-5d460a949eb0"
      },
      "execution_count": 3,
      "outputs": [
        {
          "output_type": "stream",
          "name": "stdout",
          "text": [
            "mango\n",
            "orange\n"
          ]
        },
        {
          "output_type": "execute_result",
          "data": {
            "text/plain": [
              "1"
            ]
          },
          "metadata": {},
          "execution_count": 3
        }
      ]
    },
    {
      "cell_type": "code",
      "source": [
        "#2.We can use update() function to combine two dicts/sets.\n",
        "dict1 = {'orange':4,'mango':6}\n",
        "dict2 = {'apple':8}\n",
        "dict1.update(dict2)\n",
        "print(dict1)\n",
        "\n",
        "set1 ={'grape':1,'gouva':3}\n",
        "set2 ={'mango':5}\n",
        "set1.update(set2)\n",
        "print(set1)"
      ],
      "metadata": {
        "colab": {
          "base_uri": "https://localhost:8080/",
          "height": 0
        },
        "id": "nNCef20VN-hH",
        "outputId": "f343212c-ceea-4cde-d920-8c0f1ce47419"
      },
      "execution_count": 7,
      "outputs": [
        {
          "output_type": "stream",
          "name": "stdout",
          "text": [
            "{'orange': 4, 'mango': 6, 'apple': 8}\n",
            "{'grape': 1, 'gouva': 3, 'mango': 5}\n"
          ]
        }
      ]
    },
    {
      "cell_type": "code",
      "source": [
        "#3.int() evaluates 0\n",
        "x = int()\n",
        "print(x)\n",
        "#Probably should have known this earlier,but it is what it is..."
      ],
      "metadata": {
        "colab": {
          "base_uri": "https://localhost:8080/",
          "height": 0
        },
        "id": "kl3V4wvrPewx",
        "outputId": "457e3f35-ff1a-4ff0-c6c7-d36939a8c11e"
      },
      "execution_count": 8,
      "outputs": [
        {
          "output_type": "stream",
          "name": "stdout",
          "text": [
            "0\n"
          ]
        }
      ]
    },
    {
      "cell_type": "code",
      "source": [
        "#4 We can use __code__ to get info about a function\n",
        "def test(a,b,c):\n",
        "  mango = 4\n",
        "  orange = 6\n",
        "print(test.__code__.co_varnames)\n",
        "print(test.__code__.co_argcount)\n",
        "print(test.__code__.co_consts)\n",
        "print(test.__code__.co_filename)\n",
        "\n",
        "#We can use __code__ attribute of functions to insepct certain metadata of our functions."
      ],
      "metadata": {
        "colab": {
          "base_uri": "https://localhost:8080/",
          "height": 0
        },
        "id": "Yu1Qx8UsQEXP",
        "outputId": "faf2c5fe-700c-49a9-a860-e3738c84eff6"
      },
      "execution_count": 13,
      "outputs": [
        {
          "output_type": "stream",
          "name": "stdout",
          "text": [
            "('a', 'b', 'c', 'mango', 'orange')\n",
            "3\n",
            "(None, 4, 6)\n",
            "<ipython-input-13-12db53290ece>\n"
          ]
        }
      ]
    },
    {
      "cell_type": "code",
      "source": [
        "#5 Mapping proxies(immutable dictionaries)\n",
        "# Mapping proxies are dictionaries that cannot be changed after we create them. We use this if we don't want our users to change our values.\n",
        "\n",
        "from types import MappingProxyType\n",
        "mp = MappingProxyType({'mango':4,'orang':6})\n",
        "mp['mango'] = 20\n",
        "\n",
        "#we can get error if we attempt to change stuff inside a mapping proxy."
      ],
      "metadata": {
        "colab": {
          "base_uri": "https://localhost:8080/",
          "height": 201
        },
        "id": "ocB_sAwWRpvn",
        "outputId": "28486307-18fb-4cec-fb5b-1f40c8477e5d"
      },
      "execution_count": 14,
      "outputs": [
        {
          "output_type": "error",
          "ename": "TypeError",
          "evalue": "ignored",
          "traceback": [
            "\u001b[0;31m---------------------------------------------------------------------------\u001b[0m",
            "\u001b[0;31mTypeError\u001b[0m                                 Traceback (most recent call last)",
            "\u001b[0;32m<ipython-input-14-ea3366d258d7>\u001b[0m in \u001b[0;36m<cell line: 6>\u001b[0;34m()\u001b[0m\n\u001b[1;32m      4\u001b[0m \u001b[0;32mfrom\u001b[0m \u001b[0mtypes\u001b[0m \u001b[0;32mimport\u001b[0m \u001b[0mMappingProxyType\u001b[0m\u001b[0;34m\u001b[0m\u001b[0;34m\u001b[0m\u001b[0m\n\u001b[1;32m      5\u001b[0m \u001b[0mmp\u001b[0m \u001b[0;34m=\u001b[0m \u001b[0mMappingProxyType\u001b[0m\u001b[0;34m(\u001b[0m\u001b[0;34m{\u001b[0m\u001b[0;34m'mango'\u001b[0m\u001b[0;34m:\u001b[0m\u001b[0;36m4\u001b[0m\u001b[0;34m,\u001b[0m\u001b[0;34m'orang'\u001b[0m\u001b[0;34m:\u001b[0m\u001b[0;36m6\u001b[0m\u001b[0;34m}\u001b[0m\u001b[0;34m)\u001b[0m\u001b[0;34m\u001b[0m\u001b[0;34m\u001b[0m\u001b[0m\n\u001b[0;32m----> 6\u001b[0;31m \u001b[0mmp\u001b[0m\u001b[0;34m[\u001b[0m\u001b[0;34m'mango'\u001b[0m\u001b[0;34m]\u001b[0m \u001b[0;34m=\u001b[0m \u001b[0;36m20\u001b[0m\u001b[0;34m\u001b[0m\u001b[0;34m\u001b[0m\u001b[0m\n\u001b[0m",
            "\u001b[0;31mTypeError\u001b[0m: 'mappingproxy' object does not support item assignment"
          ]
        }
      ]
    },
    {
      "cell_type": "code",
      "source": [
        "#6.__dict__ different for class and objects\n",
        "class Dog:\n",
        "  def __init__(self,name,age):\n",
        "    self.name = name\n",
        "    self.age = age\n",
        "rocky = Dog('rocky',5)\n",
        "print(type(rocky.__dict__))\n",
        "print(rocky.__dict__)\n",
        "print(type(Dog.__dict__))\n",
        "print(Dog.__dict__)\n",
        "\n",
        "#Here we have class is Dog and Dog object is rocky.\n",
        "#An object's __dict__ attribute is a normal dictionary\n",
        "\"\"\"A class __dict__ attribute is mapping proxy rather than dictionary. A mapping proxy is simply a dictionary that cannot be changed,so we cannot \n",
        "change the Dog class __dict__ as we please.\"\"\""
      ],
      "metadata": {
        "colab": {
          "base_uri": "https://localhost:8080/",
          "height": 0
        },
        "id": "jiKEnH_qVNFL",
        "outputId": "86e7dd85-1322-4015-9f75-e0edbe8eba80"
      },
      "execution_count": 17,
      "outputs": [
        {
          "output_type": "stream",
          "name": "stdout",
          "text": [
            "<class 'dict'>\n",
            "{'name': 'rocky', 'age': 5}\n",
            "<class 'mappingproxy'>\n",
            "{'__module__': '__main__', '__init__': <function Dog.__init__ at 0x7fcc348e99d0>, '__dict__': <attribute '__dict__' of 'Dog' objects>, '__weakref__': <attribute '__weakref__' of 'Dog' objects>, '__doc__': None}\n"
          ]
        }
      ]
    },
    {
      "cell_type": "code",
      "source": [
        "#7. any() and all()\n",
        "#any returns True if at least one element is True.\n",
        "any([True,False,True,False])\n"
      ],
      "metadata": {
        "colab": {
          "base_uri": "https://localhost:8080/",
          "height": 0
        },
        "id": "CMxKWrH-oq4V",
        "outputId": "e4795ddd-ea1b-4870-f05c-1e963cceebd8"
      },
      "execution_count": 8,
      "outputs": [
        {
          "output_type": "execute_result",
          "data": {
            "text/plain": [
              "True"
            ]
          },
          "metadata": {},
          "execution_count": 8
        }
      ]
    },
    {
      "cell_type": "code",
      "source": [
        "#all returns True or False if all elements is True or False respectively\n",
        "all([False,False,False,False])"
      ],
      "metadata": {
        "colab": {
          "base_uri": "https://localhost:8080/",
          "height": 0
        },
        "id": "HClPeR0UqVt7",
        "outputId": "a2768f64-71d7-4c92-eee0-7845928b2b5a"
      },
      "execution_count": 9,
      "outputs": [
        {
          "output_type": "execute_result",
          "data": {
            "text/plain": [
              "False"
            ]
          },
          "metadata": {},
          "execution_count": 9
        }
      ]
    },
    {
      "cell_type": "code",
      "source": [
        "Quotient,remainder = divmod(27,10)\n",
        "Quotient"
      ],
      "metadata": {
        "colab": {
          "base_uri": "https://localhost:8080/",
          "height": 0
        },
        "id": "x0OboX-FrmO0",
        "outputId": "1c13fd21-c8fd-46df-bab3-5f815dfc8e97"
      },
      "execution_count": 14,
      "outputs": [
        {
          "output_type": "execute_result",
          "data": {
            "text/plain": [
              "2"
            ]
          },
          "metadata": {},
          "execution_count": 14
        }
      ]
    },
    {
      "cell_type": "code",
      "source": [
        "remainder\n",
        "\n",
        "#divmod() function gives two result at time i,e quotient and remainder"
      ],
      "metadata": {
        "colab": {
          "base_uri": "https://localhost:8080/",
          "height": 0
        },
        "id": "o-k8MlCSsE34",
        "outputId": "09434f55-a488-4294-c9ce-37e009867171"
      },
      "execution_count": 15,
      "outputs": [
        {
          "output_type": "execute_result",
          "data": {
            "text/plain": [
              "7"
            ]
          },
          "metadata": {},
          "execution_count": 15
        }
      ]
    },
    {
      "cell_type": "code",
      "source": [
        "#8. We can inspect variables easily using f-strings\n",
        "name = 'rama'\n",
        "age =25\n",
        "gender = 'Male'\n",
        "print(f'{name=},{age=},{gender=}')"
      ],
      "metadata": {
        "colab": {
          "base_uri": "https://localhost:8080/",
          "height": 0
        },
        "id": "ajI6U7WcsW-M",
        "outputId": "4fa6b32c-c3f4-48a0-9d9a-d3dc21f2ce3f"
      },
      "execution_count": 22,
      "outputs": [
        {
          "output_type": "stream",
          "name": "stdout",
          "text": [
            "name='rama',age=25,gender='Male'\n"
          ]
        }
      ]
    },
    {
      "cell_type": "code",
      "source": [
        "#9 We can auto-convert floats into ratios\n",
        "print(float.as_integer_ratio(0.5))\n",
        "print(float.as_integer_ratio(0.25))\n",
        "\n",
        "#built-in function float.as_integer_ratio allow us to converts float value into fraction as represented by tuple\n",
        "print(float.as_integer_ratio(0.1))\n",
        "#But sometimes this behave funky due to floating point inaccuracy."
      ],
      "metadata": {
        "colab": {
          "base_uri": "https://localhost:8080/",
          "height": 0
        },
        "id": "f_Fdh4Eot-tg",
        "outputId": "14cb6148-d8c4-4501-b6a5-aacb1d2d9aa6"
      },
      "execution_count": 27,
      "outputs": [
        {
          "output_type": "stream",
          "name": "stdout",
          "text": [
            "(1, 2)\n",
            "(1, 4)\n"
          ]
        }
      ]
    },
    {
      "cell_type": "code",
      "source": [
        "#10.globals() and local()\n",
        "\n",
        "x = 1\n",
        "print(globals())\n",
        "\n",
        "#global returns dict,containing all global variables."
      ],
      "metadata": {
        "colab": {
          "base_uri": "https://localhost:8080/",
          "height": 0
        },
        "id": "co5OQYI5ur_f",
        "outputId": "3a6c525f-4131-4617-a96c-95ce3f568696"
      },
      "execution_count": 3,
      "outputs": [
        {
          "output_type": "stream",
          "name": "stdout",
          "text": [
            "{'__name__': '__main__', '__doc__': 'Automatically created module for IPython interactive environment', '__package__': None, '__loader__': None, '__spec__': None, '__builtin__': <module 'builtins' (built-in)>, '__builtins__': <module 'builtins' (built-in)>, '_ih': ['', '#10.globals() and local()\\n\\nx = 1\\nprint(globals())', '#10.globals() and local()\\n\\nx = 1\\nprint(globals())\\n\\n#global return dict,containing all global variables.\\ndef test():\\n  x = 1\\n  y = 2\\n  print(locals())', '#10.globals() and local()\\n\\nx = 1\\nprint(globals())\\n\\n#global return dict,containing all global variables.\\ndef test():\\n  x = 1\\n  y = 2\\n  print(locals())\\ntest()'], '_oh': {}, '_dh': ['/content'], 'In': ['', '#10.globals() and local()\\n\\nx = 1\\nprint(globals())', '#10.globals() and local()\\n\\nx = 1\\nprint(globals())\\n\\n#global return dict,containing all global variables.\\ndef test():\\n  x = 1\\n  y = 2\\n  print(locals())', '#10.globals() and local()\\n\\nx = 1\\nprint(globals())\\n\\n#global return dict,containing all global variables.\\ndef test():\\n  x = 1\\n  y = 2\\n  print(locals())\\ntest()'], 'Out': {}, 'get_ipython': <bound method InteractiveShell.get_ipython of <google.colab._shell.Shell object at 0x7f51843a8f10>>, 'exit': <IPython.core.autocall.ZMQExitAutocall object at 0x7f5183fa3340>, 'quit': <IPython.core.autocall.ZMQExitAutocall object at 0x7f5183fa3340>, '_': '', '__': '', '___': '', '_i': '#10.globals() and local()\\n\\nx = 1\\nprint(globals())\\n\\n#global return dict,containing all global variables.\\ndef test():\\n  x = 1\\n  y = 2\\n  print(locals())', '_ii': '#10.globals() and local()\\n\\nx = 1\\nprint(globals())', '_iii': '', '_i1': '#10.globals() and local()\\n\\nx = 1\\nprint(globals())', 'x': 1, '_i2': '#10.globals() and local()\\n\\nx = 1\\nprint(globals())\\n\\n#global return dict,containing all global variables.\\ndef test():\\n  x = 1\\n  y = 2\\n  print(locals())', 'test': <function test at 0x7f515961b700>, '_i3': '#10.globals() and local()\\n\\nx = 1\\nprint(globals())\\n\\n#global return dict,containing all global variables.\\ndef test():\\n  x = 1\\n  y = 2\\n  print(locals())\\ntest()'}\n",
            "{'x': 1, 'y': 2}\n"
          ]
        }
      ]
    },
    {
      "cell_type": "code",
      "source": [
        "def test():\n",
        "  x = 1\n",
        "  y = 2\n",
        "  print(locals())\n",
        "test()\n",
        "#locals returns dict,containing all local variables"
      ],
      "metadata": {
        "colab": {
          "base_uri": "https://localhost:8080/",
          "height": 0
        },
        "id": "TzT3iSDPJznr",
        "outputId": "0c8c76fd-8745-456f-8bee-00504aab6412"
      },
      "execution_count": 4,
      "outputs": [
        {
          "output_type": "stream",
          "name": "stdout",
          "text": [
            "{'x': 1, 'y': 2}\n"
          ]
        }
      ]
    },
    {
      "cell_type": "code",
      "source": [
        "11. #__import__()\n",
        "import numpy as np\n",
        "import pandas as pd\n",
        "#normal way of importing stuff\n"
      ],
      "metadata": {
        "id": "wF-sLphNK2N8"
      },
      "execution_count": 5,
      "outputs": []
    },
    {
      "cell_type": "code",
      "source": [
        "np = __import__('numpy')\n",
        "pd = __import__('pandas')\n",
        "#Doing the exact same thing but using __import__()"
      ],
      "metadata": {
        "id": "n-4ntqjfL0oY"
      },
      "execution_count": null,
      "outputs": []
    },
    {
      "cell_type": "code",
      "source": [
        "# 12.Infinity  in python\n",
        "a = float('inf')\n",
        "b = float('-inf')\n",
        "#we can define positive infinity using float('inf') and negative infinity using float(-inf)\n",
        "#Positive infinity is larger than all other numbers ,while negative infinity is smaller than all other numbers\n"
      ],
      "metadata": {
        "id": "b6h3UScyOHM4"
      },
      "execution_count": 7,
      "outputs": []
    },
    {
      "cell_type": "code",
      "source": [
        "#13. We can print colored output in python\n",
        "\n",
        "from colorama import Fore\n",
        "\n",
        "print(Fore.RED + 'hi python')\n",
        "print(Fore.GREEN + 'hello python')\n",
        "print(Fore.BLUE + 'hi hello python')"
      ],
      "metadata": {
        "colab": {
          "base_uri": "https://localhost:8080/",
          "height": 0
        },
        "id": "BUgX1xAYPqw8",
        "outputId": "898296b9-bee5-430f-86ae-391b6e2eab49"
      },
      "execution_count": 11,
      "outputs": [
        {
          "output_type": "stream",
          "name": "stdout",
          "text": [
            "\u001b[31mhi python\n",
            "\u001b[32mhello python\n",
            "\u001b[34mhi hello python\n"
          ]
        }
      ]
    },
    {
      "cell_type": "code",
      "source": [
        "#14.Define a dictionary in different ways\n",
        "d1 ={'a':'b','c':'d','e':'f'}\n",
        "print(d1)\n",
        "d2 = dict(a='b',c='d',e='f')\n",
        "print(d2)"
      ],
      "metadata": {
        "colab": {
          "base_uri": "https://localhost:8080/",
          "height": 0
        },
        "id": "sq9QjuvtRyIy",
        "outputId": "c6f51b45-16c5-4201-bb3f-11404f8ccf6a"
      },
      "execution_count": 14,
      "outputs": [
        {
          "output_type": "stream",
          "name": "stdout",
          "text": [
            "{'a': 'b', 'c': 'd', 'e': 'f'}\n",
            "{'a': 'b', 'c': 'd', 'e': 'f'}\n"
          ]
        }
      ]
    },
    {
      "cell_type": "code",
      "source": [
        "#15.Private variables in objects aren't private\n",
        "class Dog:\n",
        "  def __init__(self,name):\n",
        "    self.__name = name\n",
        "\n",
        "    @property\n",
        "    def name(self):\n",
        "      return self.__name\n",
        "#self.__name is supposed to be a private variable\n",
        "\n"
      ],
      "metadata": {
        "id": "Ai25VvT4l7Y_"
      },
      "execution_count": 2,
      "outputs": []
    },
    {
      "cell_type": "code",
      "source": [
        "rocky = Dog('rocky')\n",
        "print(rocky.__dict__)"
      ],
      "metadata": {
        "colab": {
          "base_uri": "https://localhost:8080/",
          "height": 0
        },
        "id": "HC-MRPponYEW",
        "outputId": "6a0b7a95-949a-4c7c-af44-99a385579c6c"
      },
      "execution_count": 3,
      "outputs": [
        {
          "output_type": "stream",
          "name": "stdout",
          "text": [
            "{'_Dog__name': 'rocky'}\n"
          ]
        }
      ]
    },
    {
      "cell_type": "code",
      "source": [
        "#16. we can create classes by using type()\n",
        "class Dog:\n",
        "  def __init__(self,name,age):\n",
        "    self.name = name\n",
        "    self.age = age\n",
        "  def bark(self):\n",
        "    print(f'Dog{self.name},{self.age}')\n",
        "\n",
        "#Normal way to create class"
      ],
      "metadata": {
        "id": "Zx270tCVoxdj"
      },
      "execution_count": 4,
      "outputs": []
    },
    {
      "cell_type": "code",
      "source": [
        "def __init__(self,name,age):\n",
        "  self.name = name\n",
        "  self.age = age\n",
        "\n",
        "def bark(self):\n",
        "  print(f'Dog{self.name},{self.age}')\n",
        "\n",
        "Dog = type('Dog',(),{'__init__':__init__,'bark':bark})"
      ],
      "metadata": {
        "id": "gwHek7wmqGWp"
      },
      "execution_count": null,
      "outputs": []
    },
    {
      "cell_type": "markdown",
      "source": [
        "---->creating the exact above same class but using type() method\n",
        "\n",
        "---->when we pass 3 arguments into type(),we can create class\n"
      ],
      "metadata": {
        "id": "CCwPpTyMFTFP"
      }
    },
    {
      "cell_type": "code",
      "source": [
        "classname = type(name,bases,dict)"
      ],
      "metadata": {
        "id": "G_iIhAiWF85J"
      },
      "execution_count": null,
      "outputs": []
    },
    {
      "cell_type": "markdown",
      "source": [
        "classname — a variable representing the name of the class eg. Dog\n",
        "\n",
        "name — a string representing the name of the class eg. 'Dog'\n",
        "\n",
        "bases — a tuple containing the class’ parent classes\n",
        "\n",
        "dict — a dictionary containing the class’ attributes and methods"
      ],
      "metadata": {
        "id": "0uHTiErrGRhk"
      }
    },
    {
      "cell_type": "code",
      "source": [
        "#17 classes can be decorators\n",
        "class add():\n",
        "  def __init__(self,char):\n",
        "    self.char = char\n",
        "\n",
        "  def __call__(self,function):\n",
        "    def inner(*args):\n",
        "      return function(*args) + self.char\n",
        "    return inner\n",
        "@add(\"!\")\n",
        "def greet(name):\n",
        "  return \"hello\" + name\n",
        "print(greet(\"tom\"))\n",
        "\n",
        "#It is possible due to the __call__ magic method,it defines what happens when we call the odd object."
      ],
      "metadata": {
        "colab": {
          "base_uri": "https://localhost:8080/",
          "height": 0
        },
        "id": "Cj0IPOndHMcw",
        "outputId": "f67652f7-e96b-4621-c9f3-9ae71697502e"
      },
      "execution_count": 1,
      "outputs": [
        {
          "output_type": "stream",
          "name": "stdout",
          "text": [
            "hellotom!\n"
          ]
        }
      ]
    },
    {
      "cell_type": "code",
      "source": [
        "#18.Function can have variables and methods.\n",
        "\n",
        "def test():\n",
        "  test.var = 200  #setting a variable\n",
        "  \n",
        "  def lala():\n",
        "    return 300\n",
        "  test.fun = lala #setting a method\n",
        "  return 100\n",
        "\n",
        "print(test())\n",
        "print(test.var)\n",
        "print(test.fun())"
      ],
      "metadata": {
        "colab": {
          "base_uri": "https://localhost:8080/",
          "height": 0
        },
        "id": "U7pgFv_ukszo",
        "outputId": "713473a9-ee8c-43ef-9f0a-346ff9609420"
      },
      "execution_count": 2,
      "outputs": [
        {
          "output_type": "stream",
          "name": "stdout",
          "text": [
            "100\n",
            "200\n",
            "300\n"
          ]
        }
      ]
    },
    {
      "cell_type": "code",
      "source": [
        "#19 An easy way to align strings\n",
        "print(f'>{\"hello\":<10}<')\n",
        "print(f'>{\"hello\":>10}<')\n",
        "print(f'>{\"hello\":^10}<')\n",
        "#Using f-strings"
      ],
      "metadata": {
        "colab": {
          "base_uri": "https://localhost:8080/",
          "height": 0
        },
        "id": "67Z2FyIToMhj",
        "outputId": "48328b96-4675-437a-d6bf-3d22094b9b34"
      },
      "execution_count": 7,
      "outputs": [
        {
          "output_type": "stream",
          "name": "stdout",
          "text": [
            ">hello     <\n",
            ">     hello<\n",
            ">  hello   <\n"
          ]
        }
      ]
    },
    {
      "cell_type": "code",
      "source": [
        "print('>' + 'hello'.ljust(10) + '<')\n",
        "print('>' + 'hello'.rjust(10) + '<')\n",
        "print('>' + 'hello'.center(10) + '<')\n",
        "\n",
        "#Using ljust/rjust/center"
      ],
      "metadata": {
        "colab": {
          "base_uri": "https://localhost:8080/",
          "height": 0
        },
        "id": "9PIdMlu3qkso",
        "outputId": "418ed39a-9619-4e4d-a38b-f81d5422b0b6"
      },
      "execution_count": 9,
      "outputs": [
        {
          "output_type": "stream",
          "name": "stdout",
          "text": [
            ">hello     <\n",
            ">     hello<\n",
            ">  hello   <\n"
          ]
        }
      ]
    },
    {
      "cell_type": "code",
      "source": [
        "#20 This happens when we add list  to itself\n",
        "lis = ['mango','orange']\n",
        "lis.append(lis)\n",
        "print(lis)"
      ],
      "metadata": {
        "colab": {
          "base_uri": "https://localhost:8080/",
          "height": 0
        },
        "id": "3RzU5PUTrnQA",
        "outputId": "cb40584c-934b-4c5c-9e17-9a2140633e1a"
      },
      "execution_count": 12,
      "outputs": [
        {
          "output_type": "stream",
          "name": "stdout",
          "text": [
            "['mango', 'orange', [...]]\n"
          ]
        }
      ]
    },
    {
      "cell_type": "code",
      "source": [
        "#21 we can run strings as code using eval()\n",
        "print(eval('2+4'))\n",
        "print(eval('2-2'))\n",
        "eval('print(1234)')\n",
        "\n",
        "#Note:eval() is built-in function and we don't need to import/install it"
      ],
      "metadata": {
        "colab": {
          "base_uri": "https://localhost:8080/",
          "height": 0
        },
        "id": "oN0INhwtubO3",
        "outputId": "37188261-4c33-429f-c4b9-0b5e9318ebc7"
      },
      "execution_count": 16,
      "outputs": [
        {
          "output_type": "stream",
          "name": "stdout",
          "text": [
            "6\n",
            "0\n",
            "1234\n"
          ]
        }
      ]
    },
    {
      "cell_type": "code",
      "source": [
        "#22 round() accepts negative decimal places\n",
        "print(round(12345,-1))\n",
        "print(round(12345,-2))\n",
        "print(round(12345,-3))\n",
        "print(round(3.14159,2))"
      ],
      "metadata": {
        "colab": {
          "base_uri": "https://localhost:8080/",
          "height": 0
        },
        "id": "iL9s8dytvJP6",
        "outputId": "67e71713-c0d8-4fb8-d1dd-517d59e9f3d3"
      },
      "execution_count": 20,
      "outputs": [
        {
          "output_type": "stream",
          "name": "stdout",
          "text": [
            "12340\n",
            "12300\n",
            "12000\n",
            "3.14\n"
          ]
        }
      ]
    },
    {
      "cell_type": "code",
      "source": [
        "#23 The walrus operator :=(python 3.8+)\n",
        "n = 5\n",
        "if n >3:\n",
        "  print(n ,'is greater than 3')"
      ],
      "metadata": {
        "colab": {
          "base_uri": "https://localhost:8080/",
          "height": 0
        },
        "id": "s1s3neXxxErs",
        "outputId": "b1b24f9c-68f0-4803-a2a3-d0dbb09e25b0"
      },
      "execution_count": 22,
      "outputs": [
        {
          "output_type": "stream",
          "name": "stdout",
          "text": [
            "5 is greater than 3\n"
          ]
        }
      ]
    },
    {
      "cell_type": "markdown",
      "source": [
        "-->A simple if loop that \n",
        "  -->assigns n to 5 and\n",
        "  -->uses n in a condition"
      ],
      "metadata": {
        "id": "q23IutQp1LST"
      }
    },
    {
      "cell_type": "code",
      "source": [
        "if(n:=5)>3:\n",
        "  print(n,' is more than 3')"
      ],
      "metadata": {
        "colab": {
          "base_uri": "https://localhost:8080/",
          "height": 0
        },
        "id": "nA_YlUXQ1s4g",
        "outputId": "7709e09a-242d-4520-9d20-8c8f66f7cd1e"
      },
      "execution_count": 24,
      "outputs": [
        {
          "output_type": "stream",
          "name": "stdout",
          "text": [
            "5  is more than 3\n"
          ]
        }
      ]
    },
    {
      "cell_type": "code",
      "source": [
        "#24 we can pickle many objects into the same file\n",
        "\"\"\"The built-in pickle module allows us to save Python data structures or object into binary files. We can save multiple objects per file\"\"\"\n",
        "a = [1,2,3]\n",
        "b = [4,5,6]\n",
        "c = [7,8,9]\n",
        "import pickle\n",
        "\n",
        "with open('test.pckl','wb') as f:\n",
        "  pickle.dump(a,f)\n",
        "  pickle.dump(b,f)\n",
        "  pickle.dump(c,f)\n",
        "\n",
        "print(f)\n"
      ],
      "metadata": {
        "colab": {
          "base_uri": "https://localhost:8080/"
        },
        "id": "Mg-qbujc2cP6",
        "outputId": "2629f941-a114-4dd3-f575-b41cd2addf6b"
      },
      "execution_count": 27,
      "outputs": [
        {
          "output_type": "stream",
          "name": "stdout",
          "text": [
            "<_io.BufferedWriter name='test.pckl'>\n"
          ]
        }
      ]
    },
    {
      "cell_type": "code",
      "source": [
        "import pickle\n",
        "\n",
        "with open('test.pckl','rb') as f:\n",
        "  a = pickle.load(f)\n",
        "  b = pickle.load(f)\n",
        "  c = pickle.load(f)\n",
        "\n",
        "print(a)\n"
      ],
      "metadata": {
        "colab": {
          "base_uri": "https://localhost:8080/"
        },
        "id": "EoQDzSSH4r4d",
        "outputId": "c7cf4527-4ef2-4046-eb53-55134edbaf7c"
      },
      "execution_count": 29,
      "outputs": [
        {
          "output_type": "stream",
          "name": "stdout",
          "text": [
            "[1, 2, 3]\n"
          ]
        }
      ]
    },
    {
      "cell_type": "code",
      "source": [
        "#25. dict.fromkeys():>This allows us to create dictionary from list.\n",
        "fruits = ['mango','orange','lichi']\n",
        "d = dict.fromkeys(fruits)\n",
        "print(d)\n"
      ],
      "metadata": {
        "colab": {
          "base_uri": "https://localhost:8080/"
        },
        "id": "3L0nN-fF5tDR",
        "outputId": "ee391fa8-67fc-4f21-b862-3cad7bb26c31"
      },
      "execution_count": 31,
      "outputs": [
        {
          "output_type": "stream",
          "name": "stdout",
          "text": [
            "{'mango': None, 'orange': None, 'lichi': None}\n"
          ]
        }
      ]
    },
    {
      "cell_type": "code",
      "source": [
        "fruits = ['mango','orange','lichi']\n",
        "d = dict.fromkeys(fruits,5)\n",
        "print(d)"
      ],
      "metadata": {
        "colab": {
          "base_uri": "https://localhost:8080/"
        },
        "id": "hcYnaxvM7ktC",
        "outputId": "c964db34-4612-4b50-fa3f-dc5216063d1b"
      },
      "execution_count": 32,
      "outputs": [
        {
          "output_type": "stream",
          "name": "stdout",
          "text": [
            "{'mango': 5, 'orange': 5, 'lichi': 5}\n"
          ]
        }
      ]
    },
    {
      "cell_type": "markdown",
      "source": [
        "we can set the defult value outselves by passing in another argument into dict.fromkeys"
      ],
      "metadata": {
        "id": "xg0RVYx27zp1"
      }
    },
    {
      "cell_type": "code",
      "source": [
        "#26. Frozensets (Immutable sets)\n",
        "#Frozensets are sets that cannot be changed after creation.creating a frozenset (no import needed)\n",
        "\n",
        "fs = frozenset({1,2,3})\n",
        "fs.add(4)\n"
      ],
      "metadata": {
        "colab": {
          "base_uri": "https://localhost:8080/",
          "height": 201
        },
        "id": "Wyyk-eYl8NDM",
        "outputId": "e38b05ce-1759-4617-8b22-75828382a2bd"
      },
      "execution_count": 33,
      "outputs": [
        {
          "output_type": "error",
          "ename": "AttributeError",
          "evalue": "ignored",
          "traceback": [
            "\u001b[0;31m---------------------------------------------------------------------------\u001b[0m",
            "\u001b[0;31mAttributeError\u001b[0m                            Traceback (most recent call last)",
            "\u001b[0;32m<ipython-input-33-79eee4766527>\u001b[0m in \u001b[0;36m<cell line: 5>\u001b[0;34m()\u001b[0m\n\u001b[1;32m      3\u001b[0m \u001b[0;34m\u001b[0m\u001b[0m\n\u001b[1;32m      4\u001b[0m \u001b[0mfs\u001b[0m \u001b[0;34m=\u001b[0m \u001b[0mfrozenset\u001b[0m\u001b[0;34m(\u001b[0m\u001b[0;34m{\u001b[0m\u001b[0;36m1\u001b[0m\u001b[0;34m,\u001b[0m\u001b[0;36m2\u001b[0m\u001b[0;34m,\u001b[0m\u001b[0;36m3\u001b[0m\u001b[0;34m}\u001b[0m\u001b[0;34m)\u001b[0m\u001b[0;34m\u001b[0m\u001b[0;34m\u001b[0m\u001b[0m\n\u001b[0;32m----> 5\u001b[0;31m \u001b[0mfs\u001b[0m\u001b[0;34m.\u001b[0m\u001b[0madd\u001b[0m\u001b[0;34m(\u001b[0m\u001b[0;36m4\u001b[0m\u001b[0;34m)\u001b[0m\u001b[0;34m\u001b[0m\u001b[0;34m\u001b[0m\u001b[0m\n\u001b[0m",
            "\u001b[0;31mAttributeError\u001b[0m: 'frozenset' object has no attribute 'add'"
          ]
        }
      ]
    },
    {
      "cell_type": "markdown",
      "source": [
        "^ we get an error when we try to add stuff to a frozenset.\n",
        "\n",
        "Advantages of frozensets:\n",
        "\n",
        "Checking if something exists inside a frozenset still takes O(1) time\n",
        "We can add a frozenset to another set (we can’t do that with sets)\n",
        "We can use a frozenset as a dict key (we can’t do that with sets)"
      ],
      "metadata": {
        "id": "rVcGFwCF9Pc0"
      }
    },
    {
      "cell_type": "code",
      "source": [
        "#27) We can force classes to accept only certain using __slots__\n",
        "class Dog:\n",
        "  __slots__ = ['name', 'age']\n",
        "#Dog class can only have name and age attributes now.\n",
        "\n",
        "dog = Dog()\n",
        "dog.name = 'apple'    # ok\n",
        "dog.age = 1           # ok\n",
        "dog.gender = 'm'      # ERROR cus 'gender' is not in __slots__"
      ],
      "metadata": {
        "colab": {
          "base_uri": "https://localhost:8080/",
          "height": 201
        },
        "id": "AyVuZuAl9TRf",
        "outputId": "96e54b3d-1ea4-4112-ef01-9c6552b801b6"
      },
      "execution_count": 34,
      "outputs": [
        {
          "output_type": "error",
          "ename": "AttributeError",
          "evalue": "ignored",
          "traceback": [
            "\u001b[0;31m---------------------------------------------------------------------------\u001b[0m",
            "\u001b[0;31mAttributeError\u001b[0m                            Traceback (most recent call last)",
            "\u001b[0;32m<ipython-input-34-10263cdbb094>\u001b[0m in \u001b[0;36m<cell line: 9>\u001b[0;34m()\u001b[0m\n\u001b[1;32m      7\u001b[0m \u001b[0mdog\u001b[0m\u001b[0;34m.\u001b[0m\u001b[0mname\u001b[0m \u001b[0;34m=\u001b[0m \u001b[0;34m'apple'\u001b[0m    \u001b[0;31m# ok\u001b[0m\u001b[0;34m\u001b[0m\u001b[0;34m\u001b[0m\u001b[0m\n\u001b[1;32m      8\u001b[0m \u001b[0mdog\u001b[0m\u001b[0;34m.\u001b[0m\u001b[0mage\u001b[0m \u001b[0;34m=\u001b[0m \u001b[0;36m1\u001b[0m           \u001b[0;31m# ok\u001b[0m\u001b[0;34m\u001b[0m\u001b[0;34m\u001b[0m\u001b[0m\n\u001b[0;32m----> 9\u001b[0;31m \u001b[0mdog\u001b[0m\u001b[0;34m.\u001b[0m\u001b[0mgender\u001b[0m \u001b[0;34m=\u001b[0m \u001b[0;34m'm'\u001b[0m      \u001b[0;31m# ERROR cus 'gender' is not in __slots__\u001b[0m\u001b[0;34m\u001b[0m\u001b[0;34m\u001b[0m\u001b[0m\n\u001b[0m",
            "\u001b[0;31mAttributeError\u001b[0m: 'Dog' object has no attribute 'gender'"
          ]
        }
      ]
    }
  ]
}